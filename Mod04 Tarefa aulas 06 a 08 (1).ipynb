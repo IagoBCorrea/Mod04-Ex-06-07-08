{
 "cells": [
  {
   "cell_type": "markdown",
   "metadata": {},
   "source": [
    "# Tarefa 03\n",
    "\n",
    "- Leia os enunciados com atenção\n",
    "- Saiba que pode haver mais de uma resposta correta\n",
    "- Insira novas células de código sempre que achar necessário\n",
    "- Em caso de dúvidas, procure os Tutores\n",
    "- Divirta-se :)"
   ]
  },
  {
   "cell_type": "code",
   "execution_count": 1,
   "metadata": {},
   "outputs": [],
   "source": [
    "import pandas as pd\n",
    "import requests"
   ]
  },
  {
   "cell_type": "markdown",
   "metadata": {},
   "source": [
    "####  1) Lendo de APIs\n",
    "Vimos em aula como carregar dados públicos do governo através de um API (*Application Programming Interface*). No exemplo de aula, baixamos os dados de pedidos de verificação de limites (PVL) realizados por estados, e selecionamos apenas aqueles referentes ao estado de São Paulo.\n",
    "\n",
    "1. Repita os mesmos passos feitos em aula, mas selecione os PVLs realizados por municípios no estado do Rio de Janeiro.\n",
    "2. Quais são os três *status* das solicitações mais frequentes na base? Quais são suas frequências?\n",
    "3. Construa uma nova variável que contenha o ano do **status**. Observe que ```data_status``` vem como tipo *object* no **DataFrame**. Dica: você pode usar o método ```.str``` para transformar o tipo da variável em string, em seguida um método como [**slice()**](https://pandas.pydata.org/docs/reference/api/pandas.Series.str.slice.html) ou [**split()**](https://pandas.pydata.org/pandas-docs/stable/reference/api/pandas.Series.str.split.html).\n",
    "4. Indique a frequência de cada ano do campo construído no item (3)."
   ]
  },
  {
   "cell_type": "code",
   "execution_count": 9,
   "metadata": {},
   "outputs": [
    {
     "data": {
      "text/html": [
       "<div>\n",
       "<style scoped>\n",
       "    .dataframe tbody tr th:only-of-type {\n",
       "        vertical-align: middle;\n",
       "    }\n",
       "\n",
       "    .dataframe tbody tr th {\n",
       "        vertical-align: top;\n",
       "    }\n",
       "\n",
       "    .dataframe thead th {\n",
       "        text-align: right;\n",
       "    }\n",
       "</style>\n",
       "<table border=\"1\" class=\"dataframe\">\n",
       "  <thead>\n",
       "    <tr style=\"text-align: right;\">\n",
       "      <th></th>\n",
       "      <th>id_pleito</th>\n",
       "      <th>tipo_interessado</th>\n",
       "      <th>interessado</th>\n",
       "      <th>cod_ibge</th>\n",
       "      <th>uf</th>\n",
       "      <th>num_pvl</th>\n",
       "      <th>status</th>\n",
       "      <th>num_processo</th>\n",
       "      <th>data_protocolo</th>\n",
       "      <th>tipo_operacao</th>\n",
       "      <th>finalidade</th>\n",
       "      <th>tipo_credor</th>\n",
       "      <th>credor</th>\n",
       "      <th>moeda</th>\n",
       "      <th>valor</th>\n",
       "      <th>pvl_assoc_divida</th>\n",
       "      <th>pvl_contradado_credor</th>\n",
       "      <th>data_status</th>\n",
       "    </tr>\n",
       "  </thead>\n",
       "  <tbody>\n",
       "    <tr>\n",
       "      <th>0</th>\n",
       "      <td>6660</td>\n",
       "      <td>Estado</td>\n",
       "      <td>Rio de Janeiro</td>\n",
       "      <td>33</td>\n",
       "      <td>RJ</td>\n",
       "      <td>None</td>\n",
       "      <td>Deferido</td>\n",
       "      <td>17944.000403/2010-81</td>\n",
       "      <td>2010-05-24T03:00:00Z</td>\n",
       "      <td>Operação contratual interna</td>\n",
       "      <td>PAC - Favelas</td>\n",
       "      <td>Instituição Financeira Nacional</td>\n",
       "      <td>Caixa Econômica Federal</td>\n",
       "      <td>Real</td>\n",
       "      <td>606046612.5</td>\n",
       "      <td>1</td>\n",
       "      <td>0</td>\n",
       "      <td>06/07/2010</td>\n",
       "    </tr>\n",
       "    <tr>\n",
       "      <th>1</th>\n",
       "      <td>9750</td>\n",
       "      <td>Estado</td>\n",
       "      <td>Rio de Janeiro</td>\n",
       "      <td>33</td>\n",
       "      <td>RJ</td>\n",
       "      <td>None</td>\n",
       "      <td>Deferido</td>\n",
       "      <td>17944.001046/2006-92</td>\n",
       "      <td>2006-07-07T03:00:00Z</td>\n",
       "      <td>Operação contratual interna</td>\n",
       "      <td>Infraestrutura</td>\n",
       "      <td>Instituição Financeira Nacional</td>\n",
       "      <td>Banco Nacional de Desenvolvimento Econômico e ...</td>\n",
       "      <td>Real</td>\n",
       "      <td>305737280.0</td>\n",
       "      <td>1</td>\n",
       "      <td>0</td>\n",
       "      <td>13/07/2006</td>\n",
       "    </tr>\n",
       "  </tbody>\n",
       "</table>\n",
       "</div>"
      ],
      "text/plain": [
       "   id_pleito tipo_interessado     interessado  cod_ibge  uf num_pvl    status  \\\n",
       "0       6660           Estado  Rio de Janeiro        33  RJ    None  Deferido   \n",
       "1       9750           Estado  Rio de Janeiro        33  RJ    None  Deferido   \n",
       "\n",
       "           num_processo        data_protocolo                tipo_operacao  \\\n",
       "0  17944.000403/2010-81  2010-05-24T03:00:00Z  Operação contratual interna   \n",
       "1  17944.001046/2006-92  2006-07-07T03:00:00Z  Operação contratual interna   \n",
       "\n",
       "       finalidade                      tipo_credor  \\\n",
       "0   PAC - Favelas  Instituição Financeira Nacional   \n",
       "1  Infraestrutura  Instituição Financeira Nacional   \n",
       "\n",
       "                                              credor moeda        valor  \\\n",
       "0                            Caixa Econômica Federal  Real  606046612.5   \n",
       "1  Banco Nacional de Desenvolvimento Econômico e ...  Real  305737280.0   \n",
       "\n",
       "   pvl_assoc_divida  pvl_contradado_credor data_status  \n",
       "0                 1                      0  06/07/2010  \n",
       "1                 1                      0  13/07/2006  "
      ]
     },
     "execution_count": 9,
     "metadata": {},
     "output_type": "execute_result"
    }
   ],
   "source": [
    "# 1) Seu código aqui\n",
    "\n",
    "url = 'https://apidatalake.tesouro.gov.br/ords/sadipem/tt/pvl?uf=RJ&tipo_interessado=Estado'\n",
    "dados_rj = requests.get(url)  \n",
    "dados_rj.status_code\n",
    "data_rj_json = dados_rj.json()\n",
    "\n",
    "df_rj = pd.DataFrame(data_rj_json['items'])\n",
    "df_rj.head(2)"
   ]
  },
  {
   "cell_type": "code",
   "execution_count": 3,
   "metadata": {},
   "outputs": [
    {
     "data": {
      "text/plain": [
       "status\n",
       "Encaminhado à PGFN com manifestação técnica favorável    34\n",
       "Deferido                                                 14\n",
       "Arquivado a pedido                                        3\n",
       "Arquivado por decurso de prazo                            1\n",
       "Name: count, dtype: int64"
      ]
     },
     "execution_count": 3,
     "metadata": {},
     "output_type": "execute_result"
    }
   ],
   "source": [
    "# 2) Seu código aqui\n",
    "\n",
    "df_rj['status'].value_counts()"
   ]
  },
  {
   "cell_type": "code",
   "execution_count": 7,
   "metadata": {},
   "outputs": [
    {
     "data": {
      "text/plain": [
       "data_status\n",
       "2012    11\n",
       "2009     9\n",
       "2013     7\n",
       "2011     6\n",
       "2016     4\n",
       "2002     4\n",
       "2014     4\n",
       "2010     3\n",
       "2006     2\n",
       "2008     2\n",
       "Name: count, dtype: int64"
      ]
     },
     "execution_count": 7,
     "metadata": {},
     "output_type": "execute_result"
    }
   ],
   "source": [
    "# 3) Seu código aqui\n",
    "\n",
    "ano_data_status = df_rj['data_status']\n",
    "ano_status = ano_data_status.str.slice(start=6, stop=10, step=1)\n",
    "\n",
    "ano_status.value_counts()"
   ]
  },
  {
   "cell_type": "markdown",
   "metadata": {},
   "source": [
    "####  2) Melhorando a interação com o API\n",
    "Observe dois URLs de consultas diferentes, por exemplo o URL utilizado em aula, e o URL feito no exercício anterior. Compare-os e observe as diferenças.\n",
    "\n",
    "1. Faça uma função em Python que recebe como argumento o UF da consulta e o tipo de interessado (```'Estado'```ou ```Município```), e que devolve os dados da consulta no formato *DataFrame*.\n",
    "2. Quantas solicitações para o Estado podem ser consultadas para Minas Gerais com *status* em 'Arquivado por decurso de prazo' estão registradas?\n",
    "3. Qual é o município da Bahia com mais solicitações deferidas?\n",
    "4. Salve um arquivo .csv com os dados de solicitações da Bahia, com interessado = 'Estado'"
   ]
  },
  {
   "cell_type": "code",
   "execution_count": 8,
   "metadata": {},
   "outputs": [
    {
     "data": {
      "text/html": [
       "<div>\n",
       "<style scoped>\n",
       "    .dataframe tbody tr th:only-of-type {\n",
       "        vertical-align: middle;\n",
       "    }\n",
       "\n",
       "    .dataframe tbody tr th {\n",
       "        vertical-align: top;\n",
       "    }\n",
       "\n",
       "    .dataframe thead th {\n",
       "        text-align: right;\n",
       "    }\n",
       "</style>\n",
       "<table border=\"1\" class=\"dataframe\">\n",
       "  <thead>\n",
       "    <tr style=\"text-align: right;\">\n",
       "      <th></th>\n",
       "      <th>id_pleito</th>\n",
       "      <th>tipo_interessado</th>\n",
       "      <th>interessado</th>\n",
       "      <th>cod_ibge</th>\n",
       "      <th>uf</th>\n",
       "      <th>num_pvl</th>\n",
       "      <th>status</th>\n",
       "      <th>num_processo</th>\n",
       "      <th>data_protocolo</th>\n",
       "      <th>tipo_operacao</th>\n",
       "      <th>finalidade</th>\n",
       "      <th>tipo_credor</th>\n",
       "      <th>credor</th>\n",
       "      <th>moeda</th>\n",
       "      <th>valor</th>\n",
       "      <th>pvl_assoc_divida</th>\n",
       "      <th>pvl_contradado_credor</th>\n",
       "      <th>data_status</th>\n",
       "    </tr>\n",
       "  </thead>\n",
       "  <tbody>\n",
       "    <tr>\n",
       "      <th>0</th>\n",
       "      <td>29510</td>\n",
       "      <td>Estado</td>\n",
       "      <td>Santa Catarina</td>\n",
       "      <td>42</td>\n",
       "      <td>SC</td>\n",
       "      <td>PVL02.001989/2018-96</td>\n",
       "      <td>Arquivado a pedido</td>\n",
       "      <td>17944.107125/2018-40</td>\n",
       "      <td>2018-08-29T18:24:10Z</td>\n",
       "      <td>Operação contratual interna</td>\n",
       "      <td>Infraestrutura</td>\n",
       "      <td>Instituição Financeira Nacional</td>\n",
       "      <td>Banco Nacional de Desenvolvimento Econômico e ...</td>\n",
       "      <td>Real</td>\n",
       "      <td>6.576800e+07</td>\n",
       "      <td>0</td>\n",
       "      <td>0</td>\n",
       "      <td>11/10/2018</td>\n",
       "    </tr>\n",
       "    <tr>\n",
       "      <th>1</th>\n",
       "      <td>29575</td>\n",
       "      <td>Estado</td>\n",
       "      <td>Ceará</td>\n",
       "      <td>23</td>\n",
       "      <td>CE</td>\n",
       "      <td>PVL02.001683/2018-30</td>\n",
       "      <td>Encaminhado à PGFN com manifestação técnica fa...</td>\n",
       "      <td>17944.107310/2018-34</td>\n",
       "      <td>2018-08-30T22:49:24Z</td>\n",
       "      <td>Operação contratual interna (com garantia da U...</td>\n",
       "      <td>PAC 2 - Mobilidade Grandes Cidades</td>\n",
       "      <td>Instituição Financeira Nacional</td>\n",
       "      <td>Banco Nacional de Desenvolvimento Econômico e ...</td>\n",
       "      <td>Real</td>\n",
       "      <td>1.000000e+09</td>\n",
       "      <td>1</td>\n",
       "      <td>1</td>\n",
       "      <td>03/09/2018</td>\n",
       "    </tr>\n",
       "  </tbody>\n",
       "</table>\n",
       "</div>"
      ],
      "text/plain": [
       "   id_pleito tipo_interessado     interessado  cod_ibge  uf  \\\n",
       "0      29510           Estado  Santa Catarina        42  SC   \n",
       "1      29575           Estado           Ceará        23  CE   \n",
       "\n",
       "                num_pvl                                             status  \\\n",
       "0  PVL02.001989/2018-96                                 Arquivado a pedido   \n",
       "1  PVL02.001683/2018-30  Encaminhado à PGFN com manifestação técnica fa...   \n",
       "\n",
       "           num_processo        data_protocolo  \\\n",
       "0  17944.107125/2018-40  2018-08-29T18:24:10Z   \n",
       "1  17944.107310/2018-34  2018-08-30T22:49:24Z   \n",
       "\n",
       "                                       tipo_operacao  \\\n",
       "0                        Operação contratual interna   \n",
       "1  Operação contratual interna (com garantia da U...   \n",
       "\n",
       "                           finalidade                      tipo_credor  \\\n",
       "0                      Infraestrutura  Instituição Financeira Nacional   \n",
       "1  PAC 2 - Mobilidade Grandes Cidades  Instituição Financeira Nacional   \n",
       "\n",
       "                                              credor moeda         valor  \\\n",
       "0  Banco Nacional de Desenvolvimento Econômico e ...  Real  6.576800e+07   \n",
       "1  Banco Nacional de Desenvolvimento Econômico e ...  Real  1.000000e+09   \n",
       "\n",
       "   pvl_assoc_divida  pvl_contradado_credor data_status  \n",
       "0                 0                      0  11/10/2018  \n",
       "1                 1                      1  03/09/2018  "
      ]
     },
     "execution_count": 8,
     "metadata": {},
     "output_type": "execute_result"
    }
   ],
   "source": [
    "#1) Seu código aqui\n",
    "\n",
    "url = 'https://apidatalake.tesouro.gov.br/ords/sadipem/tt/pvl?tipo_interessado=Estado'\n",
    "dados_uf = requests.get(url)  \n",
    "\n",
    "data_uf_json = dados_uf.json()\n",
    "\n",
    "df_uf = pd.DataFrame(data_uf_json['items'])\n",
    "df_uf.head(2)"
   ]
  },
  {
   "cell_type": "code",
   "execution_count": 10,
   "metadata": {},
   "outputs": [
    {
     "name": "stdout",
     "output_type": "stream",
     "text": [
      "Digite o estado (UF) desejado\n"
     ]
    },
    {
     "name": "stdin",
     "output_type": "stream",
     "text": [
      " sao paulo\n"
     ]
    },
    {
     "data": {
      "text/html": [
       "<div>\n",
       "<style scoped>\n",
       "    .dataframe tbody tr th:only-of-type {\n",
       "        vertical-align: middle;\n",
       "    }\n",
       "\n",
       "    .dataframe tbody tr th {\n",
       "        vertical-align: top;\n",
       "    }\n",
       "\n",
       "    .dataframe thead th {\n",
       "        text-align: right;\n",
       "    }\n",
       "</style>\n",
       "<table border=\"1\" class=\"dataframe\">\n",
       "  <thead>\n",
       "    <tr style=\"text-align: right;\">\n",
       "      <th></th>\n",
       "      <th>id_pleito</th>\n",
       "      <th>tipo_interessado</th>\n",
       "      <th>interessado</th>\n",
       "      <th>cod_ibge</th>\n",
       "      <th>uf</th>\n",
       "      <th>num_pvl</th>\n",
       "      <th>status</th>\n",
       "      <th>num_processo</th>\n",
       "      <th>data_protocolo</th>\n",
       "      <th>tipo_operacao</th>\n",
       "      <th>finalidade</th>\n",
       "      <th>tipo_credor</th>\n",
       "      <th>credor</th>\n",
       "      <th>moeda</th>\n",
       "      <th>valor</th>\n",
       "      <th>pvl_assoc_divida</th>\n",
       "      <th>pvl_contradado_credor</th>\n",
       "      <th>data_status</th>\n",
       "    </tr>\n",
       "  </thead>\n",
       "  <tbody>\n",
       "  </tbody>\n",
       "</table>\n",
       "</div>"
      ],
      "text/plain": [
       "Empty DataFrame\n",
       "Columns: [id_pleito, tipo_interessado, interessado, cod_ibge, uf, num_pvl, status, num_processo, data_protocolo, tipo_operacao, finalidade, tipo_credor, credor, moeda, valor, pvl_assoc_divida, pvl_contradado_credor, data_status]\n",
       "Index: []"
      ]
     },
     "execution_count": 10,
     "metadata": {},
     "output_type": "execute_result"
    }
   ],
   "source": [
    "print('Digite o estado (UF) desejado')\n",
    "filtro_df_uf = df_uf.loc[df_uf['uf'] == input().upper()]\n",
    "filtro_df_uf.head()"
   ]
  },
  {
   "cell_type": "code",
   "execution_count": 11,
   "metadata": {},
   "outputs": [
    {
     "data": {
      "text/plain": [
       "status\n",
       "Encaminhado à PGFN com manifestação técnica favorável    20\n",
       "Deferido                                                  7\n",
       "Arquivado a pedido                                        5\n",
       "Arquivado                                                 3\n",
       "Arquivado pela STN                                        3\n",
       "Indeferido                                                1\n",
       "Em retificação pelo interessado                           1\n",
       "Arquivado por decurso de prazo                            1\n",
       "Name: count, dtype: int64"
      ]
     },
     "execution_count": 11,
     "metadata": {},
     "output_type": "execute_result"
    }
   ],
   "source": [
    "# 2) Seu código aqui\n",
    "\n",
    "df_mg = df_uf.loc[df_uf['uf'] == 'MG']\n",
    "df_mg['status'].value_counts()"
   ]
  },
  {
   "cell_type": "code",
   "execution_count": 12,
   "metadata": {},
   "outputs": [
    {
     "data": {
      "text/html": [
       "<div>\n",
       "<style scoped>\n",
       "    .dataframe tbody tr th:only-of-type {\n",
       "        vertical-align: middle;\n",
       "    }\n",
       "\n",
       "    .dataframe tbody tr th {\n",
       "        vertical-align: top;\n",
       "    }\n",
       "\n",
       "    .dataframe thead th {\n",
       "        text-align: right;\n",
       "    }\n",
       "</style>\n",
       "<table border=\"1\" class=\"dataframe\">\n",
       "  <thead>\n",
       "    <tr style=\"text-align: right;\">\n",
       "      <th></th>\n",
       "      <th>id_pleito</th>\n",
       "      <th>tipo_interessado</th>\n",
       "      <th>interessado</th>\n",
       "      <th>cod_ibge</th>\n",
       "      <th>uf</th>\n",
       "      <th>num_pvl</th>\n",
       "      <th>status</th>\n",
       "      <th>num_processo</th>\n",
       "      <th>data_protocolo</th>\n",
       "      <th>tipo_operacao</th>\n",
       "      <th>finalidade</th>\n",
       "      <th>tipo_credor</th>\n",
       "      <th>credor</th>\n",
       "      <th>moeda</th>\n",
       "      <th>valor</th>\n",
       "      <th>pvl_assoc_divida</th>\n",
       "      <th>pvl_contradado_credor</th>\n",
       "      <th>data_status</th>\n",
       "    </tr>\n",
       "  </thead>\n",
       "  <tbody>\n",
       "    <tr>\n",
       "      <th>0</th>\n",
       "      <td>32153</td>\n",
       "      <td>Município</td>\n",
       "      <td>Cairu</td>\n",
       "      <td>2905404</td>\n",
       "      <td>BA</td>\n",
       "      <td>PVL02.001315/2019-72</td>\n",
       "      <td>Deferido (PVL-IF)</td>\n",
       "      <td>None</td>\n",
       "      <td>None</td>\n",
       "      <td>Operação contratual interna</td>\n",
       "      <td>Infraestrutura</td>\n",
       "      <td>Instituição Financeira Nacional</td>\n",
       "      <td>Agência de Fomento do Estado da Bahia S/A</td>\n",
       "      <td>Real</td>\n",
       "      <td>4480000.0</td>\n",
       "      <td>0</td>\n",
       "      <td>0</td>\n",
       "      <td>22/05/2019</td>\n",
       "    </tr>\n",
       "    <tr>\n",
       "      <th>1</th>\n",
       "      <td>31372</td>\n",
       "      <td>Município</td>\n",
       "      <td>Santa Brígida</td>\n",
       "      <td>2927606</td>\n",
       "      <td>BA</td>\n",
       "      <td>PVL02.000521/2019-65</td>\n",
       "      <td>Em retificação pelo interessado</td>\n",
       "      <td>17944.101204/2019-28</td>\n",
       "      <td>2019-04-05T14:09:11Z</td>\n",
       "      <td>Operação contratual interna</td>\n",
       "      <td>Regularização de Dívida - Energia Elétrica</td>\n",
       "      <td>Empresa Não Estatal</td>\n",
       "      <td>Companhia de Eletricidade do Estado da Bahia</td>\n",
       "      <td>Real</td>\n",
       "      <td>48721.3</td>\n",
       "      <td>0</td>\n",
       "      <td>0</td>\n",
       "      <td>11/04/2019</td>\n",
       "    </tr>\n",
       "  </tbody>\n",
       "</table>\n",
       "</div>"
      ],
      "text/plain": [
       "   id_pleito tipo_interessado    interessado  cod_ibge  uf  \\\n",
       "0      32153        Município          Cairu   2905404  BA   \n",
       "1      31372        Município  Santa Brígida   2927606  BA   \n",
       "\n",
       "                num_pvl                           status  \\\n",
       "0  PVL02.001315/2019-72                Deferido (PVL-IF)   \n",
       "1  PVL02.000521/2019-65  Em retificação pelo interessado   \n",
       "\n",
       "           num_processo        data_protocolo                tipo_operacao  \\\n",
       "0                  None                  None  Operação contratual interna   \n",
       "1  17944.101204/2019-28  2019-04-05T14:09:11Z  Operação contratual interna   \n",
       "\n",
       "                                   finalidade  \\\n",
       "0                              Infraestrutura   \n",
       "1  Regularização de Dívida - Energia Elétrica   \n",
       "\n",
       "                       tipo_credor  \\\n",
       "0  Instituição Financeira Nacional   \n",
       "1              Empresa Não Estatal   \n",
       "\n",
       "                                         credor moeda      valor  \\\n",
       "0     Agência de Fomento do Estado da Bahia S/A  Real  4480000.0   \n",
       "1  Companhia de Eletricidade do Estado da Bahia  Real    48721.3   \n",
       "\n",
       "   pvl_assoc_divida  pvl_contradado_credor data_status  \n",
       "0                 0                      0  22/05/2019  \n",
       "1                 0                      0  11/04/2019  "
      ]
     },
     "execution_count": 12,
     "metadata": {},
     "output_type": "execute_result"
    }
   ],
   "source": [
    "# 3) Seu código aqui\n",
    "\n",
    "url = 'https://apidatalake.tesouro.gov.br/ords/sadipem/tt/pvl?uf=BA&tipo_interessado=Munic%C3%ADpio'\n",
    "mun_ba = requests.get(url)  \n",
    "data_uf_json = mun_ba.json()\n",
    "\n",
    "df_ba_mun = pd.DataFrame(data_uf_json['items'])\n",
    "df_ba_mun.head(2)"
   ]
  },
  {
   "cell_type": "code",
   "execution_count": 13,
   "metadata": {},
   "outputs": [
    {
     "data": {
      "text/plain": [
       "interessado\n",
       "Luís Eduardo Magalhães    16\n",
       "Vitória da Conquista      12\n",
       "Lauro de Freitas          11\n",
       "Camaçari                  10\n",
       "Barreiras                 10\n",
       "                          ..\n",
       "Banzaê                     1\n",
       "Juazeiro                   1\n",
       "Cravolândia                1\n",
       "Ribeira do Pombal          1\n",
       "Itaguaçu da Bahia          1\n",
       "Name: count, Length: 185, dtype: int64"
      ]
     },
     "execution_count": 13,
     "metadata": {},
     "output_type": "execute_result"
    }
   ],
   "source": [
    "df_ba_def = df_ba_mun.loc[df_ba_mun['status'] == 'Deferido']\n",
    "df_ba_def['interessado'].value_counts()"
   ]
  },
  {
   "cell_type": "code",
   "execution_count": 14,
   "metadata": {},
   "outputs": [],
   "source": [
    "# 4) Seu código aqui\n",
    "\n",
    "df_ba_def.to_csv('dados_estado_Bahia')"
   ]
  },
  {
   "cell_type": "code",
   "execution_count": null,
   "metadata": {},
   "outputs": [],
   "source": []
  }
 ],
 "metadata": {
  "kernelspec": {
   "display_name": "Python 3 (ipykernel)",
   "language": "python",
   "name": "python3"
  },
  "language_info": {
   "codemirror_mode": {
    "name": "ipython",
    "version": 3
   },
   "file_extension": ".py",
   "mimetype": "text/x-python",
   "name": "python",
   "nbconvert_exporter": "python",
   "pygments_lexer": "ipython3",
   "version": "3.11.7"
  }
 },
 "nbformat": 4,
 "nbformat_minor": 4
}
